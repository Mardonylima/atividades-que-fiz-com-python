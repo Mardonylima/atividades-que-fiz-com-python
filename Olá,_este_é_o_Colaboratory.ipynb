{
  "cells": [
    {
      "cell_type": "markdown",
      "metadata": {
        "id": "view-in-github",
        "colab_type": "text"
      },
      "source": [
        "<a href=\"https://colab.research.google.com/github/Mardonylima/atividades-que-fiz-com-python/blob/main/Ol%C3%A1%2C_este_%C3%A9_o_Colaboratory.ipynb\" target=\"_parent\"><img src=\"https://colab.research.google.com/assets/colab-badge.svg\" alt=\"Open In Colab\"/></a>"
      ]
    },
    {
      "cell_type": "code",
      "source": [
        "#exemplo1\n",
        "n1 = int(input('digite um valor'))\n",
        "n2 = int(input('digite outro valor'))\n",
        "s = n1 + n2\n",
        "m = n1 * n2\n",
        "d = n1 / n2\n",
        "di = n1 // n2\n",
        "p = n1 ** n2\n",
        "#print('a some é {}, o multiplicação é {} e a divisão é {}' .format(s, m, d))\n",
        "#print('a some é {}, o multiplicação é {} e a divisão é {:.3f}' .format(s, m, d))\n",
        "print('a some é {}, o multiplicação é {}, e a divisão é {}' .format(s, m, d), end=' ')\n",
        "print('a divisão inteira {}, e potencia {}'.format(di, p))\n",
        "\n",
        "# o '{:.3f}' é pra abreviar as casas decimais, virgulas dos pontos flutuantes.\n",
        "# o \"end=' '\" é pra deixar os prints na mesma linha."
      ],
      "metadata": {
        "id": "gY2OKblxXyCb"
      },
      "execution_count": null,
      "outputs": []
    },
    {
      "cell_type": "code",
      "source": [
        "#exemplo2\n",
        "\n",
        "# antes dos dois pontos ':' é aonde ele vai começar e depois é onde ele vai termina. se tiver mais dois pontos são\n",
        "# a quantidade de casas que ele vai pular.\n",
        "from itertools import count\n",
        "\n",
        "frase = 'Curso em Vídeo Python'\n",
        "print(frase[9:21]) # aqui ele vai isolar do caracteres 9 ao 21\n",
        "print(frase[1:21:2]) # aqui ele vai isolar do caracteres 9 ao 21 só que pulando de dois e dois\n",
        "print(frase[:12]) # aqui como não tem numero antes do ponto ele vai começar do 0 até o 21\n",
        "print(frase[15:]) # aqui como tem numero antes do ponto ele vai começar do 15 até o fim da frase\n",
        "print(frase[9::3]) # aqui tem inicio mas nao tem fim, então ele vai até o fim da frase só que pulando 3 casas\n",
        "print(len(frase))\n",
        "print(frase.replace('Curso', 'aula'))\n",
        "print(frase.upper())\n",
        "print(frase.lower())\n",
        "print(frase.capitalize())\n",
        "print(frase.count('o'))\n",
        "print(frase.split())"
      ],
      "metadata": {
        "id": "7NPAvJoeYGa9"
      },
      "execution_count": null,
      "outputs": []
    },
    {
      "cell_type": "code",
      "source": [
        "#exemplo3\n",
        "\n",
        "#tempo = int(input('quanto anos seu carro tem?'))\n",
        "#if tempo <=3:\n",
        "#    print('seu carro é novo^^')\n",
        "#else:\n",
        "#    print('seu carro é velho')\n",
        "#print('é isso...')\n",
        "\n",
        "tempo = int(input('quanto anos seu carro tem?'))\n",
        "print('seu carro é novo^^'if tempo <=3 else'seu carro é velho')\n",
        "print('é isso...')\n"
      ],
      "metadata": {
        "id": "xonBb7wiYGfJ"
      },
      "execution_count": null,
      "outputs": []
    },
    {
      "cell_type": "code",
      "source": [
        "#desafio3\n",
        "n1= int(input('digite um numero: '))\n",
        "n2= int(input('digite mais um numero: '))\n",
        "s= n1 + n2\n",
        "#print= ('a soma dos voleres sâo:', s)\n",
        "#print('a soma entre {} e {} vale {}'.format(n1, n2, s))\n",
        "print(f'a some entre {n1} e {n2} vale {s}')"
      ],
      "metadata": {
        "id": "k1snZxXWYG4M"
      },
      "execution_count": null,
      "outputs": []
    },
    {
      "cell_type": "code",
      "source": [
        "#desafio4\n",
        "n = input('Digite algo:')\n",
        "#print('Segue abaixo as informações:')\n",
        "print('Tipo primitivo:', type (n))\n",
        "print('Alfanúmerico:', n.isalnum())\n",
        "print('Alfabético:', n.isalpha())\n",
        "print('Numérico:', n.isnumeric())"
      ],
      "metadata": {
        "id": "NSQ4TOnYYG6Y"
      },
      "execution_count": null,
      "outputs": []
    },
    {
      "cell_type": "code",
      "source": [
        "#desafio5\n",
        "# faça um programa que leia um numero inteiro e mostre seu sucessor e antecessor:\n",
        "n1 = int(input(' digite um numero: '))\n",
        "mais = n1 + 1\n",
        "menos = n1 - 1\n",
        "print('o valor digitado foi {}, o sucessor dele é {}, e o antecessor dele é {} '.format(n1, mais, menos))"
      ],
      "metadata": {
        "id": "kNZ_0F3GYG8h"
      },
      "execution_count": null,
      "outputs": []
    },
    {
      "cell_type": "code",
      "source": [
        "#desafio6\n",
        "# crie um algoritmo que leia um numero e mostre seu dobro,triplo e raiz:\n",
        "n1 = int(input(' digite um numero: '))\n",
        "dobro = n1 * 2\n",
        "triplo = n1 * 3\n",
        "raiz = n1 ** 2\n",
        "print(' o valor digitado foi {} o seu dobro é {} o triplo é {} e sua raiz é {}'.format(n1, dobro, triplo, raiz))"
      ],
      "metadata": {
        "id": "yGM2a75EYG-w"
      },
      "execution_count": null,
      "outputs": []
    },
    {
      "cell_type": "code",
      "source": [
        "#desafio7\n",
        "# desenvolva um programa que leia duaas notas de um aluno, calcule e mostre a media:\n",
        "nota1= float(input('digite sua nota: '))\n",
        "nota2= float(input('digite mais uma nota'))\n",
        "r = (nota1 + nota2)/2\n",
        "print('sua primeira nota é {}, a segunda é {}, e sua media é {}'.format(nota1, nota2, r))"
      ],
      "metadata": {
        "id": "cO_M3RyzYHA6"
      },
      "execution_count": null,
      "outputs": []
    },
    {
      "cell_type": "code",
      "source": [
        "#desafio8\n",
        "# escreva um programa que leia um valor em metro e o exiba convertido em centimetros e milimetros\n",
        "n1= float(input('digite a quantidade de metros: '))\n",
        "centimetros= n1 * 100\n",
        "milimetros= n1 * 1000\n",
        "print('são {} metros, que convertidos para cintimetros é {:.1f}cm, e para milimetros {}mm'.format(n1, centimetros, milimetros))\n"
      ],
      "metadata": {
        "id": "YRmfupuJYHDO"
      },
      "execution_count": null,
      "outputs": []
    },
    {
      "cell_type": "code",
      "source": [
        "#desafio9\n",
        "#faça um programa que leia um numero inteiro qualquer e mostre na tela  a sua tabuada\n",
        "n1 = int(input('digite uma numero:'))\n",
        "x1= n1 * 1\n",
        "x2= n1 * 2\n",
        "x3= n1 * 3\n",
        "x4= n1 * 4\n",
        "x5= n1 * 5\n",
        "x6= n1 * 6\n",
        "x7= n1 * 7\n",
        "x8= n1 * 8\n",
        "x9= n1 * 9\n",
        "x10=n1 * 10\n",
        "print('a valor da tabuada de {} é , {}, {}, {}, {}, {}, {}, {}, {}, {}, {}'.format(n1, x1, x2, x3, x4, x5, x6, x7, x8, x9, x10))\n"
      ],
      "metadata": {
        "id": "FNHDl1xoYHFc"
      },
      "execution_count": null,
      "outputs": []
    },
    {
      "cell_type": "code",
      "source": [
        "#desafio10\n",
        "#crie um programa que leia quanto a pessoa tem na carteira e mostre quantos dolares ela pode comprar.\n",
        "\n",
        "br= float(input('quantos reais vc tem na carteira?'))\n",
        "dolar= br / 5.17\n",
        "print('voce tem R${:.2f}, que é equivalente a {:.2f}dolar'.format(br, dolar))"
      ],
      "metadata": {
        "id": "_iYTn3hKYHH6"
      },
      "execution_count": null,
      "outputs": []
    },
    {
      "cell_type": "code",
      "source": [
        "#desafio11\n",
        "# faça uma programa que leia a largura e a altura de uma parede em metros,\n",
        "# calcule sua area e a quantidade de tinta necessaria para pinta-la,\n",
        "# sabendo que cada litro de tinta pinta uma area de 2 metros quadrados.\n",
        "altura = float(input('Digite a altura: '))\n",
        "largura = float(input('Digite a largura: '))\n",
        "quadrado = altura * largura\n",
        "qtd_tinta = quadrado / 2\n",
        "print('a altura é {}, e a largura é {}, e os metros quadrados são {}, a quantidade de tinta que voce vai usar é {} '.format(altura, largura, quadrado, qtd_tinta))"
      ],
      "metadata": {
        "id": "1ECm8FtGYHK6"
      },
      "execution_count": null,
      "outputs": []
    },
    {
      "cell_type": "code",
      "source": [
        "#desafio12\n",
        "#faça um algoritmo que leia o preço de um produto mostre seu novo preço, com 5% de desconto]\n",
        "preço= int(input(' qual o preço do produto? '))\n",
        "novo = preço - (preço * 10/100)\n",
        "print('o preço do produto é {:.2f}, e com o desconto de 5% vai ficar {:.2f} '.format(preço, novo))"
      ],
      "metadata": {
        "id": "X-sT2ZGdYHM5"
      },
      "execution_count": null,
      "outputs": []
    },
    {
      "cell_type": "code",
      "source": [
        "#desafio13\n",
        "# faça um algoritmo que leia o salario de um fucionario e mostre seu novo salario, com 15% de aumento\n",
        "salario= int(input(' qual salario de um fucionario? '))\n",
        "novo = salario + (salario * 15/100)\n",
        "print('o salario era {}, e com o aumento de 15% vai ficar {} '.format(salario, novo))"
      ],
      "metadata": {
        "id": "t5aKnNlZYHPM"
      },
      "execution_count": null,
      "outputs": []
    },
    {
      "cell_type": "code",
      "source": [
        "#desafio16\n",
        "# crie um programa que leia um numero real qualquer pelo teclado e mostre na tela a sua porção inteira.\n",
        "     # primeira aula/desafio de importação\n",
        "\n",
        "import math\n",
        "n1 = float(input('digite um numero:'))\n",
        "print('o numero {}, foi arredondado para: {}.'.format(n1,(math.floor(n1))))"
      ],
      "metadata": {
        "id": "HVy08SbBYHRs"
      },
      "execution_count": null,
      "outputs": []
    },
    {
      "cell_type": "code",
      "source": [
        "#desafio17\n",
        "#Faça um programa que leia o comprimento do cateto oposto e do cateto adjacente\n",
        "#de um triângulo retângulo. Calcule e mostre o comprimento da hipotenusa.\n",
        "\n",
        "  # sem improtação\n",
        "\n",
        "#co= float(input('digite o valor do cateto oposto:'))\n",
        "#ca= float(input('digite o valor do cateto adjecente:'))\n",
        "#hi= (co ** 2 + ca ** 2) ** (1/2)\n",
        "#print('a hipotenusa vai medir {:.2f} '.format(hi))\n",
        "\n",
        "  #com importação\n",
        "\n",
        "import math\n",
        "co= float(input('digite o valor do cateto oposto:'))\n",
        "ca= float(input('digite o valor do cateto adjecente:'))\n",
        "hi= math.hypot(co, ca)\n",
        "print('a hipotenusa vai medir {:.2f} '.format(hi))"
      ],
      "metadata": {
        "id": "3bnuy_uzYHT4"
      },
      "execution_count": null,
      "outputs": []
    },
    {
      "cell_type": "code",
      "source": [
        "#desafio18\n",
        "#Faça um programa que leia um ângulo qualquer\n",
        "# e mostre na tela o valor do seno, cosseno e tangente desse ângulo\n",
        "\n",
        "import math\n",
        "ângulo = float(input('digite o ângulo que deseja:'))\n",
        "seno = math.sin(math.radians(ângulo))\n",
        "print('o ângulo de {} tem o SENO de {:.2f}'.format(ângulo, seno))\n",
        "cosseno = math.cos(math.radians(ângulo))\n",
        "print('o ângulo de {} tem o COSSENO de {:.2f}'.format(ângulo, cosseno))\n",
        "tangente = math.tan(math.radians(ângulo))\n",
        "print('o ângulo de {} tem a TANGENTE de {:.2f}'.format(ângulo, tangente))\n",
        "\n"
      ],
      "metadata": {
        "id": "AKkGffuMYHWP"
      },
      "execution_count": null,
      "outputs": []
    },
    {
      "cell_type": "code",
      "source": [
        "#desafio19\n",
        "  #Um professor quer sortear um dos seus quatro alunos para apagar o quadro.\n",
        "  # Faça um programa que ajude ele,lendo o nome dos alunos e escrevendo na tela o nome do escolhido.\n",
        "\n",
        "import random\n",
        "a1 = str(input('primeiro aluno:'))\n",
        "a2 = str(input('segundo aluno:'))\n",
        "a3 = str(input('terceiro aluno:'))\n",
        "a4 = str(input('quarto aluno:'))\n",
        "alunos = [a1, a2, a3, a4]\n",
        "escolhido = random.choice(alunos)\n",
        "print('o aluno escolhido foi {} '.format(escolhido))\n"
      ],
      "metadata": {
        "id": "LO8F4yrMYHYU"
      },
      "execution_count": null,
      "outputs": []
    },
    {
      "cell_type": "code",
      "source": [
        "#desafio20\n",
        "#O mesmo professor do desafio 019 quer sortear a ordem de apresentação de trabalhos dos alunos.\n",
        "# Faça um programa que leia o nome dos quatro alunos e mostre a ordem sorteada.\n",
        "\n",
        "import random\n",
        "a1 = str(input('primeiro aluno:'))\n",
        "a2 = str(input('segundo aluno:'))\n",
        "a3 = str(input('terceiro aluno:'))\n",
        "a4 = str(input('quarto aluno:'))\n",
        "alunos = [a1, a2, a3, a4]\n",
        "random.shuffle(alunos)\n",
        "print('a ordem para apresentar o trabalho foi')\n",
        "print(alunos)\n"
      ],
      "metadata": {
        "id": "IaMEUaUMYHag"
      },
      "execution_count": null,
      "outputs": []
    },
    {
      "cell_type": "code",
      "source": [
        "#desafio22\n",
        "#Crie um programa que leia o nome completo de uma pessoa e mostre:\n",
        "#- O nome com todas as letras maiúsculas e minúsculas.\n",
        "#- Quantas letras ao todo (sem considerar espaços).\n",
        "#- Quantas letras tem o primeiro nome.\n",
        "\n",
        "nome = str(input('qual é o seu nome?'))\n",
        "print('seu nome todo em maiúsculo é {}'.format(nome.upper()))\n",
        "print('seu nome todo em minúsculo é {}'.format(nome.lower()))\n",
        "print('seu nome ao todo tem: {} '.format(len(nome) - nome.count(' ')))\n",
        "print('seu primeiro nome tem {} latras'.format(nome.find(' ')))"
      ],
      "metadata": {
        "id": "ESRt3pRmYHcx"
      },
      "execution_count": null,
      "outputs": []
    },
    {
      "cell_type": "code",
      "source": [
        "#desafio23\n",
        "# Faça um programa que leia um número de 0 a 9999 e mostre na tela cada um dos dígitos separados.\n",
        "\n",
        "num = int(input('digite qualquer numero de 1 a 9999: '))\n",
        "u = num // 1 % 10\n",
        "d = num // 10 % 10\n",
        "c = num // 100 % 10\n",
        "m = num // 1000 % 10\n",
        "print('o valor Digitado foi: {}'.format(num))\n",
        "print('a Unidade é {}'.format(u))\n",
        "print('a Dezena é {}'.format(d))\n",
        "print('a Centena é {}'.format(c))\n",
        "print('a Milhar é {}'.format(m))"
      ],
      "metadata": {
        "id": "2hITeTUoYHfC"
      },
      "execution_count": null,
      "outputs": []
    },
    {
      "cell_type": "code",
      "source": [
        "#desafio24\n",
        "#: Crie um programa que leia o nome de uma cidade diga se ela começa ou não com o nome \"SANTO\".\n",
        "\n",
        "cidade = str(input('qual o nome da seu cidade?')).strip()\n",
        "print(cidade[:5].upper() == 'SANTO')\n",
        "#print('o nome da sua cidade é {}'.format(cidade))\n",
        "print(cidade.upper())"
      ],
      "metadata": {
        "id": "kdASkqJzYHhR"
      },
      "execution_count": null,
      "outputs": []
    },
    {
      "cell_type": "code",
      "source": [
        "#desafio25\n",
        "#Crie um programa que leia o nome de uma pessoa e diga se ela tem \"SILVA\" no nome.\n",
        "\n",
        "nome = str(input('qual o seu nome?')).strip()\n",
        "print('seu nome tem SILVA? {}'.format('SILVA' in nome.upper()))"
      ],
      "metadata": {
        "id": "m2HhPLTEYHjx"
      },
      "execution_count": null,
      "outputs": []
    },
    {
      "cell_type": "code",
      "source": [
        "#desafio26\n",
        "#Faça um programa que leia uma frase pelo teclado e mostre quantas vezes aparece a letra \"A\",\n",
        "# em que posição ela aparece a primeira vez e em que posição ela aparece a última vez.\n",
        "\n",
        "frase = str(input('digite uma frase:')).upper().strip()\n",
        "print('a letra A aparece {} vezes na frase '.format(frase.count('A')))\n",
        "print('a primeira letra A apareceu na posição {} '.format(frase.find('A')+1))\n",
        "print('a ultima vez a a letra A apareceu foi na posição {}'.format(frase.rfind('A')+1))"
      ],
      "metadata": {
        "id": "9OygF_OOYHl_"
      },
      "execution_count": null,
      "outputs": []
    },
    {
      "cell_type": "code",
      "source": [
        "#desafio27\n",
        "#Faça um programa que leia o nome completo de uma pessoa, mostrando em seguida o primeiro e o último nome separadamente.\n",
        "\n",
        "n = str(input(' qual o sem nome completo?')).strip().upper()\n",
        "nome = n.split()\n",
        "print('seu primeiro nome é {}'.format(nome[0]))\n",
        "print('seu ultimo nome é {}'.format(nome[len(nome)-1]))"
      ],
      "metadata": {
        "id": "k62qSXRbbJKE"
      },
      "execution_count": null,
      "outputs": []
    }
  ],
  "metadata": {
    "colab": {
      "name": "Olá, este é o Colaboratory",
      "toc_visible": true,
      "provenance": [],
      "include_colab_link": true
    },
    "kernelspec": {
      "display_name": "Python 3",
      "name": "python3"
    }
  },
  "nbformat": 4,
  "nbformat_minor": 0
}